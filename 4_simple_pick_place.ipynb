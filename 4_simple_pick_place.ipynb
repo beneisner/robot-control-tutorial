{
 "cells": [
  {
   "cell_type": "markdown",
   "metadata": {},
   "source": [
    "# Let's put it all together to make a simple pick-and-place demo."
   ]
  },
  {
   "cell_type": "code",
   "execution_count": null,
   "metadata": {},
   "outputs": [],
   "source": [
    "from full_demo import create_env, INITIAL_POSITION, execute_plan, get_ik_sol, open_gripper, close_gripper\n",
    "from ompl_demo import StateChecker, create_plan"
   ]
  },
  {
   "cell_type": "code",
   "execution_count": null,
   "metadata": {},
   "outputs": [],
   "source": [
    "# Create the simulation!\n",
    "simId, robotId, ll, ul, jr, bounds, tableheight = create_env(True)\n",
    "\n",
    "# Create a state checker, for planning purposes.\n",
    "checker = StateChecker()\n",
    "\n",
    "# Common orientation for the gripper.\n",
    "down = [1, 0, 0, 0]"
   ]
  },
  {
   "cell_type": "code",
   "execution_count": null,
   "metadata": {},
   "outputs": [],
   "source": [
    "# Move the arm directly above the block.\n",
    "p1 = [0, 0, tableheight+0.2]\n",
    "p1_ja = get_ik_sol(p1, down, ll, ul, jr, robotId)\n",
    "p1_plan = create_plan(INITIAL_POSITION[:7], p1_ja[:7], joint_limits=bounds, checker=checker)\n",
    "execute_plan(p1_plan, robotId)"
   ]
  },
  {
   "cell_type": "code",
   "execution_count": null,
   "metadata": {},
   "outputs": [],
   "source": [
    "# Open the gripper\n",
    "open_gripper(robotId)"
   ]
  },
  {
   "cell_type": "code",
   "execution_count": null,
   "metadata": {},
   "outputs": [],
   "source": [
    "# Around the block.\n",
    "p2 = [0, 0, tableheight+0.02]\n",
    "p2_ja = get_ik_sol(p2, down, ll, ul, jr, robotId)\n",
    "p1p2_plan = create_plan(p1_ja[:7], p2_ja[:7], joint_limits=bounds, checker=checker)\n",
    "execute_plan(p1p2_plan, robotId)"
   ]
  },
  {
   "cell_type": "code",
   "execution_count": null,
   "metadata": {},
   "outputs": [],
   "source": [
    "# Grab the block\n",
    "close_gripper(robotId)"
   ]
  },
  {
   "cell_type": "code",
   "execution_count": null,
   "metadata": {},
   "outputs": [],
   "source": [
    "# Lift the block.\n",
    "p3 = [0, 0, tableheight+0.2]\n",
    "p3_ja = get_ik_sol(p3, down, ll, ul, jr, robotId)\n",
    "p2p3_plan = create_plan(p2_ja[:7], p3_ja[:7], joint_limits=bounds, checker=checker)\n",
    "execute_plan(p2p3_plan, robotId)"
   ]
  },
  {
   "cell_type": "code",
   "execution_count": null,
   "metadata": {},
   "outputs": [],
   "source": [
    "# Move the block.\n",
    "p4 = [0, 0.2, tableheight+0.2]\n",
    "p4_ja = get_ik_sol(p4, down, ll, ul, jr, robotId)\n",
    "p3p4_plan = create_plan(p3_ja[:7], p4_ja[:7], joint_limits=bounds, checker=checker)\n",
    "execute_plan(p3p4_plan, robotId)"
   ]
  },
  {
   "cell_type": "code",
   "execution_count": null,
   "metadata": {},
   "outputs": [],
   "source": [
    "# Lower the block.\n",
    "p5 = [0, 0.2, tableheight+0.02]\n",
    "p5_ja = get_ik_sol(p5, down, ll, ul, jr, robotId)\n",
    "p4p5_plan = create_plan(p4_ja[:7], p5_ja[:7], joint_limits=bounds, checker=checker)\n",
    "execute_plan(p4p5_plan, robotId)"
   ]
  },
  {
   "cell_type": "code",
   "execution_count": null,
   "metadata": {},
   "outputs": [],
   "source": [
    "# Open the gripper.\n",
    "open_gripper(robotId)"
   ]
  },
  {
   "cell_type": "code",
   "execution_count": null,
   "metadata": {},
   "outputs": [],
   "source": [
    "# Lift the arm.\n",
    "p6 = [0, 0.2, tableheight+0.2]\n",
    "p6_ja = get_ik_sol(p6, down, ll, ul, jr, robotId)\n",
    "p5p6_plan = create_plan(p5_ja[:7], p6_ja[:7], joint_limits=bounds, checker=checker)\n",
    "execute_plan(p5p6_plan, robotId)"
   ]
  },
  {
   "cell_type": "markdown",
   "metadata": {},
   "source": [
    "# Voila! Smooth motions with collision-free control! Very precise, very nice!"
   ]
  },
  {
   "cell_type": "markdown",
   "metadata": {},
   "source": [
    "# We can get even fancier (but we won't today)!\n",
    "* Think about velocity control.\n",
    "* Add more constraints.\n",
    "* Tweak forces, contact, etc.\n",
    "* Make everything more realistic."
   ]
  }
 ],
 "metadata": {
  "interpreter": {
   "hash": "7487ab389fda1c283d2fc74764e9803fdcb2e5aa3bb2c63d04d9664b273c7fe8"
  },
  "kernelspec": {
   "display_name": "Python 3.10.0 64-bit ('robot': pyenv)",
   "name": "python3"
  },
  "language_info": {
   "codemirror_mode": {
    "name": "ipython",
    "version": 3
   },
   "file_extension": ".py",
   "mimetype": "text/x-python",
   "name": "python",
   "nbconvert_exporter": "python",
   "pygments_lexer": "ipython3",
   "version": "3.10.0"
  },
  "orig_nbformat": 4
 },
 "nbformat": 4,
 "nbformat_minor": 2
}
