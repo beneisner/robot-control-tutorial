{
 "cells": [
  {
   "cell_type": "code",
   "execution_count": null,
   "metadata": {},
   "outputs": [],
   "source": [
    "import pybullet as p\n",
    "import pybullet_data\n",
    "import time\n",
    "\n",
    "from pybullet_robots.panda.panda_sim_grasp import ll, ul, jr, rp, pandaEndEffectorIndex, pandaNumDofs, jointPositions\n"
   ]
  },
  {
   "cell_type": "code",
   "execution_count": null,
   "metadata": {},
   "outputs": [],
   "source": [
    "# Create the bullet simulator in GUI mode.\n",
    "physicsClient = p.connect(p.GUI)\n",
    "p.setAdditionalSearchPath(pybullet_data.getDataPath())\n",
    "\n",
    "# Configure the simulation to have gravity.\n",
    "p.setGravity(0, 0, -9.81)"
   ]
  },
  {
   "cell_type": "code",
   "execution_count": null,
   "metadata": {},
   "outputs": [],
   "source": [
    "# Load in the floor, it's just a big surface.\n",
    "planeId = p.loadURDF(\"plane.urdf\")"
   ]
  },
  {
   "cell_type": "code",
   "execution_count": null,
   "metadata": {},
   "outputs": [],
   "source": [
    "# Load in a table, it's at a good default location.\n",
    "tableId = p.loadURDF(\"table/table.urdf\")"
   ]
  },
  {
   "cell_type": "code",
   "execution_count": null,
   "metadata": {},
   "outputs": [],
   "source": [
    "# Place the object on top of the table.\n",
    "# The math just places it exactly on top, using the bounding box.\n",
    "# Fix it to the table so it doesn't fly off.\n",
    "aabbmin, aabbmax = p.getAABB(tableId)\n",
    "start_pos = [aabbmin[0]+0.2,0,aabbmax[2]]\n",
    "start_ori = p.getQuaternionFromEuler([0,0,0])\n",
    "robotId = p.loadURDF(\"franka_panda/panda.urdf\", start_pos, start_ori, useFixedBase=True)"
   ]
  },
  {
   "cell_type": "code",
   "execution_count": null,
   "metadata": {},
   "outputs": [],
   "source": [
    "index=0\n",
    "for j in range(p.getNumJoints(robotId)):\n",
    "    p.changeDynamics(robotId, j, linearDamping=0, angularDamping=0)\n",
    "    info = p.getJointInfo(robotId, j)\n",
    "    jointName = info[1]\n",
    "    jointType = info[2]\n",
    "    if (jointType == p.JOINT_PRISMATIC):\n",
    "        p.resetJointState(robotId, j, jointPositions[index]) \n",
    "        index=index+1\n",
    "    if (jointType == p.JOINT_REVOLUTE):\n",
    "        p.resetJointState(robotId, j, jointPositions[index]) \n",
    "        index=index+1"
   ]
  },
  {
   "cell_type": "code",
   "execution_count": null,
   "metadata": {},
   "outputs": [],
   "source": [
    "for i in range (2000000):\n",
    "    p.stepSimulation()"
   ]
  },
  {
   "cell_type": "code",
   "execution_count": null,
   "metadata": {},
   "outputs": [],
   "source": []
  }
 ],
 "metadata": {
  "interpreter": {
   "hash": "7487ab389fda1c283d2fc74764e9803fdcb2e5aa3bb2c63d04d9664b273c7fe8"
  },
  "kernelspec": {
   "display_name": "Python 3.10.0 64-bit ('robot': pyenv)",
   "name": "python3"
  },
  "language_info": {
   "codemirror_mode": {
    "name": "ipython",
    "version": 3
   },
   "file_extension": ".py",
   "mimetype": "text/x-python",
   "name": "python",
   "nbconvert_exporter": "python",
   "pygments_lexer": "ipython3",
   "version": "3.10.0"
  },
  "orig_nbformat": 4
 },
 "nbformat": 4,
 "nbformat_minor": 2
}
