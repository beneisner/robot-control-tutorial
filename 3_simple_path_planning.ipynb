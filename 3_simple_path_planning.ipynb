{
 "cells": [
  {
   "cell_type": "code",
   "execution_count": null,
   "metadata": {},
   "outputs": [],
   "source": [
    "from ompl_demo import create_state_checker_env, INTERPOLATE_NUM, DEFAULT_PLANNING_TIME\n",
    "from utils import get_moving_links, get_self_link_pairs, pairwise_collision, pairwise_link_collision\n",
    "from itertools import product\n",
    "from full_demo import create_env, INITIAL_POSITION, get_ik_sol, set_ja_goal\n",
    "\n",
    "\n",
    "import pybullet as p\n",
    "import time"
   ]
  },
  {
   "cell_type": "code",
   "execution_count": null,
   "metadata": {},
   "outputs": [],
   "source": [
    "# Create a real environment.\n",
    "physicsClient, robotId, ll, ul, jr, bounds, tableheight = create_env(with_block=False)"
   ]
  },
  {
   "cell_type": "code",
   "execution_count": null,
   "metadata": {},
   "outputs": [],
   "source": [
    "# Let's create a desired set of goals.\n",
    "current_ja = INITIAL_POSITION\n",
    "down = [1, 0, 0, 0]\n",
    "goal_ja = get_ik_sol([0, 0, tableheight+0.1], down, ll, ul, jr, robotId)"
   ]
  },
  {
   "cell_type": "code",
   "execution_count": null,
   "metadata": {},
   "outputs": [],
   "source": [
    "from ompl import base as ob\n",
    "from ompl import geometric as og"
   ]
  },
  {
   "cell_type": "markdown",
   "metadata": {},
   "source": [
    "## Create the state space"
   ]
  },
  {
   "cell_type": "code",
   "execution_count": null,
   "metadata": {},
   "outputs": [],
   "source": [
    "n_joints = len(current_ja)\n",
    "\n",
    "# The state space we're trying to plan in is JOINT SPACE.\n",
    "# We could probably also perform things in SE(3), but maybe not yet.\n",
    "state_space = ob.RealVectorStateSpace(n_joints)\n",
    "\n",
    "# Describe the general bounds of the optimization problem.\n",
    "obbounds = ob.RealVectorBounds(n_joints)\n",
    "for i, (low, hi) in enumerate(bounds):\n",
    "    obbounds.setHigh(i, hi)\n",
    "    obbounds.setLow(i, low)\n",
    "state_space.setBounds(obbounds)"
   ]
  },
  {
   "cell_type": "markdown",
   "metadata": {},
   "source": [
    "## Create the state validity checker"
   ]
  },
  {
   "cell_type": "code",
   "execution_count": null,
   "metadata": {},
   "outputs": [],
   "source": [
    "class StateChecker:\n",
    "    def __init__(self):\n",
    "        self.simID, self.robotId, tableId = create_state_checker_env()\n",
    "        obstacles = [tableId]\n",
    "\n",
    "        # DON'T WORRY ABOUT THIS SECTION; THIS IS JUST BOILERPLATE FOR GETTING WHICH PAIRS\n",
    "        # OF LINKS TO CHECK.\n",
    "        joint_idx = list(range(7))\n",
    "        self.check_link_pairs = get_self_link_pairs(self.robotId, joint_idx, simID=self.simID)\n",
    "        moving_links = frozenset(get_moving_links(self.robotId, joint_idx, simID=self.simID))\n",
    "        moving_bodies = [(self.robotId, moving_links)]\n",
    "        self.check_body_pairs = list(product(moving_bodies, obstacles))\n",
    "\n",
    "    def is_state_valid(self, state):\n",
    "        state_list = [state[i] for i in range(7)]\n",
    "\n",
    "        # Put our simulation into the specified state.\n",
    "        for joint, value in zip(range(7), state_list):\n",
    "            p.resetJointState(self.robotId, joint, value, targetVelocity=0, physicsClientId=self.simID)\n",
    "\n",
    "        # Check for collisions with the robot links.\n",
    "        for link1, link2 in self.check_link_pairs:\n",
    "            if pairwise_link_collision(self.robotId, link1, self.robotId, link2, simID=self.simID):\n",
    "                return False\n",
    "\n",
    "        # Check for collisions with the environment.\n",
    "        for body1, body2 in self.check_body_pairs:\n",
    "            if pairwise_collision(body1, body2, self.simID):\n",
    "                return False\n",
    "        return True\n",
    "checker = StateChecker()"
   ]
  },
  {
   "cell_type": "markdown",
   "metadata": {},
   "source": [
    "## Create the OMPL Solver"
   ]
  },
  {
   "cell_type": "code",
   "execution_count": null,
   "metadata": {},
   "outputs": [],
   "source": [
    "# Create the solver. The default planner is RRT, but we can set it to any\n",
    "# planning algorithm (or create our own!) via `solver.setPlanner`\n",
    "solver = og.SimpleSetup(state_space)\n",
    "solver.setStateValidityChecker(ob.StateValidityCheckerFn(checker.is_state_valid))\n",
    "\n",
    "# Initialize the start and the goal.\n",
    "start, goal = ob.State(state_space), ob.State(state_space)\n",
    "for i, (s_i, e_i) in enumerate(zip(current_ja[:7], goal_ja[:7])):\n",
    "    start[i] = s_i\n",
    "    goal[i] = e_i\n",
    "solver.setStartAndGoalStates(start, goal)"
   ]
  },
  {
   "cell_type": "code",
   "execution_count": null,
   "metadata": {},
   "outputs": [],
   "source": [
    "# Solve the task with some time constraints (not sure exactly what this means...)\n",
    "solved = solver.solve(DEFAULT_PLANNING_TIME)\n",
    "if not solved:\n",
    "    raise ValueError(\"unable to solve the problem\")"
   ]
  },
  {
   "cell_type": "markdown",
   "metadata": {},
   "source": [
    "## Postprocessing"
   ]
  },
  {
   "cell_type": "code",
   "execution_count": null,
   "metadata": {},
   "outputs": [],
   "source": [
    "# Simplify, essentially tightening the solution.\n",
    "solver.simplifySolution()\n",
    "\n",
    "# Get the solution, and perform interpolation.\n",
    "path = solver.getSolutionPath()\n",
    "path.interpolate(INTERPOLATE_NUM)\n",
    "path_states = path.getStates()\n",
    "path_list = [[state[i] for i in range(n_joints)] for state in path_states]"
   ]
  },
  {
   "cell_type": "markdown",
   "metadata": {},
   "source": [
    "## Let's try and execute the path!"
   ]
  },
  {
   "cell_type": "code",
   "execution_count": null,
   "metadata": {},
   "outputs": [],
   "source": [
    "for i in range (len(path_list)):\n",
    "    set_ja_goal(path_list[i][:7], robotId)\n",
    "    p.stepSimulation()\n",
    "    time.sleep(1./240.)\n",
    "\n",
    "for i in range(10000):\n",
    "    p.stepSimulation()\n",
    "    time.sleep(1./240.)"
   ]
  }
 ],
 "metadata": {
  "interpreter": {
   "hash": "7487ab389fda1c283d2fc74764e9803fdcb2e5aa3bb2c63d04d9664b273c7fe8"
  },
  "kernelspec": {
   "display_name": "Python 3.10.0 64-bit ('robot': pyenv)",
   "name": "python3"
  },
  "language_info": {
   "codemirror_mode": {
    "name": "ipython",
    "version": 3
   },
   "file_extension": ".py",
   "mimetype": "text/x-python",
   "name": "python",
   "nbconvert_exporter": "python",
   "pygments_lexer": "ipython3",
   "version": "3.10.0"
  },
  "orig_nbformat": 4
 },
 "nbformat": 4,
 "nbformat_minor": 2
}
