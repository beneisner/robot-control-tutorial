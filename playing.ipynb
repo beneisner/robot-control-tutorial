{
 "cells": [
  {
   "cell_type": "code",
   "execution_count": null,
   "metadata": {},
   "outputs": [],
   "source": [
    "import pybullet as p\n",
    "import pybullet_data\n",
    "import time\n",
    "import numpy as np"
   ]
  },
  {
   "cell_type": "code",
   "execution_count": null,
   "metadata": {},
   "outputs": [],
   "source": [
    "physicsClient = p.connect(p.DIRECT)#or p.DIRECT for non-graphical version\n",
    "p.setAdditionalSearchPath(pybullet_data.getDataPath()) #optionally\n",
    "p.setGravity(0,0,-10)\n",
    "planeId = p.loadURDF(\"plane.urdf\")\n",
    "startPos = [0,0,1]\n",
    "startOrientation = p.getQuaternionFromEuler([0,0,0])\n",
    "boxId = p.loadURDF(\"franka_panda/panda.urdf\",startPos, startOrientation)\n",
    "#set the center of mass frame (loadURDF sets base link frame) startPos/Ornp.resetBasePositionAndOrientation(boxId, startPos, startOrientation)\n",
    "for i in range (10000):\n",
    "    p.stepSimulation()\n",
    "    # time.sleep(1./240.)\n",
    "cubePos, cubeOrn = p.getBasePositionAndOrientation(boxId)\n",
    "print(cubePos,cubeOrn)\n",
    "\n"
   ]
  },
  {
   "cell_type": "code",
   "execution_count": null,
   "metadata": {},
   "outputs": [],
   "source": [
    "from numpngw import write_apng\n",
    "from IPython.display import Image\n",
    "\n",
    "\n",
    "camTargetPos = [0, 0, 0]\n",
    "cameraUp = [0, 0, 1]\n",
    "cameraPos = [1, 1, 1]\n",
    "p.setGravity(0, 0, -10)\n",
    "yaw = 0\n",
    "\n",
    "frames=[] #frames to create animated png\n",
    "for r in range(60):\n",
    "    yaw += 6\n",
    "    pitch = -10.0\n",
    "    roll = 0\n",
    "    upAxisIndex = 2\n",
    "    camDistance = 1.5\n",
    "    pixelWidth = 320\n",
    "    pixelHeight = 200\n",
    "    nearPlane = 0.01\n",
    "    farPlane = 100\n",
    "    fov = 60\n",
    "    viewMatrix = p.computeViewMatrixFromYawPitchRoll(camTargetPos, camDistance, yaw, pitch,\n",
    "                                                                roll, upAxisIndex)\n",
    "    aspect = pixelWidth / pixelHeight\n",
    "    projectionMatrix = p.computeProjectionMatrixFOV(fov, aspect, nearPlane, farPlane)\n",
    "        \n",
    "    img_arr = p.getCameraImage(pixelWidth,pixelHeight,viewMatrix,projectionMatrix)\n",
    "    w = img_arr[0]  #width of the image, in pixels\n",
    "    h = img_arr[1]  #height of the image, in pixels\n",
    "    rgb = img_arr[2]  #color data RGB\n",
    "    dep = img_arr[3]  #depth data\n",
    "    #print(\"w=\",w,\"h=\",h)\n",
    "    np_img_arr = np.reshape(rgb, (h, w, 4))\n",
    "    frame = np_img_arr[:, :, :3]\n",
    "    frames.append(frame)\n",
    "print(\"creating animated png, please about 5 seconds\")\n",
    "%time write_apng(\"example6.png\", frames, delay=100)\n",
    "%time Image(filename=\"example6.png\")"
   ]
  },
  {
   "cell_type": "code",
   "execution_count": null,
   "metadata": {},
   "outputs": [],
   "source": [
    "pybullet_data.getDataPath()"
   ]
  },
  {
   "cell_type": "code",
   "execution_count": null,
   "metadata": {},
   "outputs": [],
   "source": [
    "!ls /home/beisner/.pyenv/versions/3.10.0/envs/robot/lib/python3.10/site-packages/pybullet_data"
   ]
  },
  {
   "cell_type": "code",
   "execution_count": null,
   "metadata": {},
   "outputs": [],
   "source": []
  }
 ],
 "metadata": {
  "interpreter": {
   "hash": "7487ab389fda1c283d2fc74764e9803fdcb2e5aa3bb2c63d04d9664b273c7fe8"
  },
  "kernelspec": {
   "display_name": "Python 3.10.0 64-bit ('robot': pyenv)",
   "name": "python3"
  },
  "language_info": {
   "codemirror_mode": {
    "name": "ipython",
    "version": 3
   },
   "file_extension": ".py",
   "mimetype": "text/x-python",
   "name": "python",
   "nbconvert_exporter": "python",
   "pygments_lexer": "ipython3",
   "version": "3.10.0"
  },
  "orig_nbformat": 4
 },
 "nbformat": 4,
 "nbformat_minor": 2
}
