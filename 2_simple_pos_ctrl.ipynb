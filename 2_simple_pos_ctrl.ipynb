{
 "cells": [
  {
   "cell_type": "code",
   "execution_count": null,
   "metadata": {},
   "outputs": [],
   "source": [
    "import pybullet as p\n",
    "\n",
    "from full_demo import create_env\n",
    "import time\n",
    "from pybullet_robots.panda.panda_sim_grasp import rp, pandaEndEffectorIndex"
   ]
  },
  {
   "cell_type": "code",
   "execution_count": null,
   "metadata": {},
   "outputs": [],
   "source": [
    "simId, robotId, ll, ul, jr, bounds, tableheight = create_env(with_block=False, bad_start=True)\n"
   ]
  },
  {
   "cell_type": "code",
   "execution_count": null,
   "metadata": {},
   "outputs": [],
   "source": [
    "# Let's say we have a goal in mind!\n",
    "\n",
    "# Specify the goal.\n",
    "pos = [0, 0, tableheight + 0.2]\n",
    "orient = [1, 0, 0, 0]\n",
    "\n",
    "# Perform the inverse kinematics.\n",
    "# Note: this function tries to find the best IK solution given your CURRENT position in the env.\n",
    "# Since there are many links in the panda chain, we are computing the desired pose of the final link, a \n",
    "# virtual position between the fingers called pandaEndEffectorIndex here.\n",
    "goal_ja = p.calculateInverseKinematics(robotId, pandaEndEffectorIndex, pos, orient, ll, ul, jr, rp, maxNumIterations=1000)"
   ]
  },
  {
   "cell_type": "code",
   "execution_count": null,
   "metadata": {},
   "outputs": [],
   "source": [
    "# FULL STEAM AHEAD TO THE GOAL!\n",
    "for i in range(10000):\n",
    "    # Set the control values\n",
    "    p.setJointMotorControlArray(robotId, jointIndices=[0,1,2,3,4,5,6], controlMode=p.POSITION_CONTROL, targetPositions=goal_ja[:7])\n",
    "    p.stepSimulation()\n",
    "    time.sleep(1./240.)"
   ]
  },
  {
   "cell_type": "code",
   "execution_count": null,
   "metadata": {},
   "outputs": [],
   "source": [
    "# I'm actually being a bit dishonest here........\n",
    "# The initial starting position is actually invalid, and so the simulator has a hard time actually driving things there.\n",
    "# You ***might*** get lucky with your starting conditions, and sending things directly to the goal joint angles might work.\n",
    "# BUT IN THE GENERAL CASE, you're not guaranteed that your motion will be nice. Things that could go wrong:\n",
    "# * self-collisions as the robot is driving its joints\n",
    "# * end effector might move in unexpected ways due to the power of the motors\n",
    "# * collisions with other objects make things infeasible\n",
    "\n",
    "# WE WANT SOME MORE GUARANTEES!"
   ]
  }
 ],
 "metadata": {
  "interpreter": {
   "hash": "7487ab389fda1c283d2fc74764e9803fdcb2e5aa3bb2c63d04d9664b273c7fe8"
  },
  "kernelspec": {
   "display_name": "Python 3.10.0 64-bit ('robot': pyenv)",
   "name": "python3"
  },
  "language_info": {
   "codemirror_mode": {
    "name": "ipython",
    "version": 3
   },
   "file_extension": ".py",
   "mimetype": "text/x-python",
   "name": "python",
   "nbconvert_exporter": "python",
   "pygments_lexer": "ipython3",
   "version": "3.10.0"
  },
  "orig_nbformat": 4
 },
 "nbformat": 4,
 "nbformat_minor": 2
}
